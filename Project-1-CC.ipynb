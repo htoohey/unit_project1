{
 "cells": [
  {
   "cell_type": "markdown",
   "metadata": {},
   "source": [
    "<img src=\"http://imgur.com/1ZcRyrc.png\" style=\"float: left; margin: 20px; height: 55px\">\n",
    "\n",
    "# Project 1: Python Coding Exercises\n",
    "\n",
    "_Authors: Joseph Nelson (DC) _\n",
    "\n",
    "---"
   ]
  },
  {
   "cell_type": "markdown",
   "metadata": {},
   "source": [
    "The following code challenges are drawn from common exercises used in technical interviews.\n",
    "\n",
    "Note that there may be several ways to approach each challenge!"
   ]
  },
  {
   "cell_type": "markdown",
   "metadata": {},
   "source": [
    "### Challenge 1: Largest Palindrome\n",
    "A palindromic number reads the same both ways. For example, 1234321 is a palindrome. The largest palindrome made from the product of two two-digit numbers is 9009 = 91 × 99. Find the largest palindrome made from the product of two three-digit numbers."
   ]
  },
  {
   "cell_type": "code",
   "execution_count": 242,
   "metadata": {},
   "outputs": [
    {
     "name": "stdout",
     "output_type": "stream",
     "text": [
      "906609\n"
     ]
    }
   ],
   "source": [
    "#defining a function maxpalindrome that takes the inputs of our min/max range\n",
    "#need a product of two three-digit numbers, so we loop through x, then y and set range 100 to 999\n",
    "#use the string of that product to compare it to itself reversed\n",
    "#if the product is greater in this loop than in the past it will override the existing product\n",
    "#it will continue to loop through this process until the maximum value has been achieved\n",
    "\n",
    "def maxpalindrome(x,y):\n",
    "    product = 0\n",
    "    for x in range(100,999):\n",
    "        for y in range(100,999):\n",
    "            if str(x*y) == str(x*y)[::-1]:\n",
    "                if x*y > product:\n",
    "                    product = x*y\n",
    "    return product\n",
    "print(maxpalindrome(100,999))"
   ]
  },
  {
   "cell_type": "markdown",
   "metadata": {},
   "source": [
    "\n",
    "### Challenge 2: Summation of Primes\n",
    "The sum of the primes below 10 is 2 + 3 + 5 + 7 = 17. Find the sum of all the primes below 2,000."
   ]
  },
  {
   "cell_type": "code",
   "execution_count": 29,
   "metadata": {},
   "outputs": [
    {
     "name": "stdout",
     "output_type": "stream",
     "text": [
      "277050\n"
     ]
    }
   ],
   "source": [
    "import sympy #importing a Python library with mathematics functions to find prime numbers\n",
    "\n",
    "sum_of_primes = 0  #setting the variable that will grow as we add prime numbers\n",
    "\n",
    "#using an IF statement inside a FOR loop\n",
    "#the loop iterates through numbers (x) 1 through 2000\n",
    "#the if statement determines if x is a prime number\n",
    "#if x is a prime number, it will be added to the running total\n",
    "\n",
    "for x in range(1,2000): \n",
    "    if sympy.isprime(x): \n",
    "        sum_of_primes = sum_of_primes + x\n",
    "print(sum_of_primes)\n",
    "\n",
    "#prints the final result after all iterations: 277050"
   ]
  },
  {
   "cell_type": "markdown",
   "metadata": {},
   "source": [
    "### Challenge 3: Multiples of 3 and 5\n",
    "If we list all of the natural numbers below 10 that are multiples of 3 or 5, we get 3, 5, 6, and 9. The sum of these multiples is 23. Find the sum of all the multiples of 3 and 5 below 1,000."
   ]
  },
  {
   "cell_type": "code",
   "execution_count": 305,
   "metadata": {},
   "outputs": [
    {
     "data": {
      "text/plain": [
       "233168"
      ]
     },
     "execution_count": 305,
     "metadata": {},
     "output_type": "execute_result"
    }
   ],
   "source": [
    "multiples_of_three = []\n",
    "multiples_of_five = []\n",
    "#creating 2 lists to keep track of all multiples of three and all multiples of five\n",
    "\n",
    "for x in range(1,1000):\n",
    "    if x % 3 == 0:\n",
    "        multiples_of_three.append(x)\n",
    "        \n",
    "    elif x % 5 == 0:\n",
    "        multiples_of_five.append(x)\n",
    "\n",
    "        \n",
    "# created a for loop that iterates through the numbers in the given range 1 to 1000\n",
    "# within the loop, an if statement with modulo determines if you divide x by 3 the remainder is 0\n",
    "# using a second if statement with modulo to determine if you divide x by 5 the remainder is 0\n",
    "# using an ELSE IF statement rather than just two IFs because we do not want to include duplicates \n",
    "##  (eg. 15 would be counted twice without elif)\n",
    "\n",
    "sum(multiples_of_three) + sum(multiples_of_five)\n",
    "#prints solution 233168"
   ]
  },
  {
   "cell_type": "code",
   "execution_count": 309,
   "metadata": {},
   "outputs": [
    {
     "data": {
      "text/plain": [
       "233168"
      ]
     },
     "execution_count": 309,
     "metadata": {},
     "output_type": "execute_result"
    }
   ],
   "source": [
    "#ALTERNATE SOLUTION -- could follow this route which is much more streamlined:\n",
    "\n",
    "multiples = []\n",
    "\n",
    "for x in range(1,1000):\n",
    "    if x % 3 == 0 or x % 5 == 0:\n",
    "        multiples.append(x)\n",
    "sum(multiples)\n"
   ]
  },
  {
   "cell_type": "markdown",
   "metadata": {},
   "source": [
    "### Challenge 4: String Compressor\n",
    "Implement a method to perform basic string compression using the counts of repeated characters. (This is called run-length encoding.) For example, the string \"aabcccccaaa\" would become a2b1c5a3. If the “compressed” string would not become smaller than the original string, your method should return the original string. You can assume the string has only uppercase and lowercase letters (a–z). Specify whether your solution is case sensitive or case insensitive and what you would need to change to make it the other."
   ]
  },
  {
   "cell_type": "code",
   "execution_count": 310,
   "metadata": {},
   "outputs": [
    {
     "name": "stdout",
     "output_type": "stream",
     "text": [
      "aAbBcCdDeEfFggg\n"
     ]
    }
   ],
   "source": [
    "#creating a counter for the occurences of a letter\n",
    "#creating a new string called compressed to placeletters and their occurences\n",
    "\n",
    "occurences = 1\n",
    "compressed = \"\"\n",
    "string = \"aAbBcCdDeEfFggg\"\n",
    "\n",
    "\n",
    "# in the for loop, using enumerate to index each letter in the string\n",
    "# need to check if index+1 is less than the length of string to keep in range as it iterates\n",
    "# testing if the letter at that index position matches the letter at the next position\n",
    "# if letter matches the next letter, it adds an occurence\n",
    "\n",
    "for index,letter in enumerate(string):\n",
    "    if index+1 < len(string) and letter == string[index+1]:\n",
    "        occurences += 1\n",
    "    else:\n",
    "        compressed = compressed + letter + str(occurences)\n",
    "        occurences = 1\n",
    "\n",
    "#checking the length of the new compressed string and original to return shorter of the two\n",
    "if len(compressed) < len(string):\n",
    "    print(compressed)\n",
    "else:\n",
    "    print(string)\n",
    "\n",
    "#did not include steps to make case insensitive (so this is case sensitive)\n",
    "#could add .lower() or .upper() to string statements to ensure this works with combo upper and lower"
   ]
  },
  {
   "cell_type": "code",
   "execution_count": 146,
   "metadata": {},
   "outputs": [
    {
     "name": "stdout",
     "output_type": "stream",
     "text": [
      "a2b2c2d2e2f2g3\n"
     ]
    }
   ],
   "source": [
    "#version here is case INSENSITIVE where we make the string convert entirely to lowercase\n",
    "\n",
    "occurences = 1\n",
    "compressed = \"\"\n",
    "string = \"aAbBcCdDeEfFggg\"\n",
    "\n",
    "for index,letter in enumerate(string.lower()):\n",
    "    if index+1 < len(string.lower()) and letter.lower() == string.lower()[index+1]:\n",
    "        occurences += 1\n",
    "    else:\n",
    "        compressed = compressed + letter + str(occurences)\n",
    "        occurences = 1\n",
    "\n",
    "if len(compressed) < len(string):\n",
    "    print(compressed)\n",
    "else:\n",
    "    print(string)"
   ]
  },
  {
   "cell_type": "markdown",
   "metadata": {},
   "source": [
    "# Bonus Challenge: FizzBuzz Extreme\n",
    "Find or develop three different solutions to the following problem, in Python, that are as different from one another as possible. Which one do you prefer? Why? In what ways are the alternative solutions better?\n",
    "\n",
    "Write a program that prints all of the numbers from 1 to 100. For multiples of 3, instead of the number, print \"Fizz;\" for multiples of 5, print \"Buzz.\" For numbers that are multiples of both 3 and 5, print \"FizzBuzz.\""
   ]
  },
  {
   "cell_type": "code",
   "execution_count": 311,
   "metadata": {},
   "outputs": [
    {
     "name": "stdout",
     "output_type": "stream",
     "text": [
      "1\n",
      "2\n",
      "Fizz\n",
      "4\n",
      "Buzz\n",
      "Fizz\n",
      "7\n",
      "8\n",
      "Fizz\n",
      "Buzz\n",
      "11\n",
      "Fizz\n",
      "13\n",
      "14\n",
      "FizzBuzz\n",
      "16\n",
      "17\n",
      "Fizz\n",
      "19\n",
      "Buzz\n",
      "Fizz\n",
      "22\n",
      "23\n",
      "Fizz\n",
      "Buzz\n",
      "26\n",
      "Fizz\n",
      "28\n",
      "29\n",
      "FizzBuzz\n",
      "31\n",
      "32\n",
      "Fizz\n",
      "34\n",
      "Buzz\n",
      "Fizz\n",
      "37\n",
      "38\n",
      "Fizz\n",
      "Buzz\n",
      "41\n",
      "Fizz\n",
      "43\n",
      "44\n",
      "FizzBuzz\n",
      "46\n",
      "47\n",
      "Fizz\n",
      "49\n",
      "Buzz\n",
      "Fizz\n",
      "52\n",
      "53\n",
      "Fizz\n",
      "Buzz\n",
      "56\n",
      "Fizz\n",
      "58\n",
      "59\n",
      "FizzBuzz\n",
      "61\n",
      "62\n",
      "Fizz\n",
      "64\n",
      "Buzz\n",
      "Fizz\n",
      "67\n",
      "68\n",
      "Fizz\n",
      "Buzz\n",
      "71\n",
      "Fizz\n",
      "73\n",
      "74\n",
      "FizzBuzz\n",
      "76\n",
      "77\n",
      "Fizz\n",
      "79\n",
      "Buzz\n",
      "Fizz\n",
      "82\n",
      "83\n",
      "Fizz\n",
      "Buzz\n",
      "86\n",
      "Fizz\n",
      "88\n",
      "89\n",
      "FizzBuzz\n",
      "91\n",
      "92\n",
      "Fizz\n",
      "94\n",
      "Buzz\n",
      "Fizz\n",
      "97\n",
      "98\n",
      "Fizz\n",
      "Buzz\n"
     ]
    }
   ],
   "source": [
    "#SOLUTION 1\n",
    "# to me, this is my first instinct, most logical to follow\n",
    "\n",
    "for x in range(1,101):\n",
    "    if (x % 3 == 0) and (x % 5 == 0):\n",
    "        print('FizzBuzz')\n",
    "    elif x % 3 == 0:\n",
    "        print('Fizz')\n",
    "    elif x % 5 == 0:\n",
    "        print('Buzz')\n",
    "    else:\n",
    "        print(x)"
   ]
  },
  {
   "cell_type": "code",
   "execution_count": 312,
   "metadata": {},
   "outputs": [
    {
     "name": "stdout",
     "output_type": "stream",
     "text": [
      "1\n",
      "2\n",
      "Fizz\n",
      "4\n",
      "Buzz\n",
      "Fizz\n",
      "7\n",
      "8\n",
      "Fizz\n",
      "Buzz\n",
      "11\n",
      "Fizz\n",
      "13\n",
      "14\n",
      "FizzBuzz\n",
      "16\n",
      "17\n",
      "Fizz\n",
      "19\n",
      "Buzz\n",
      "Fizz\n",
      "22\n",
      "23\n",
      "Fizz\n",
      "Buzz\n",
      "26\n",
      "Fizz\n",
      "28\n",
      "29\n",
      "FizzBuzz\n",
      "31\n",
      "32\n",
      "Fizz\n",
      "34\n",
      "Buzz\n",
      "Fizz\n",
      "37\n",
      "38\n",
      "Fizz\n",
      "Buzz\n",
      "41\n",
      "Fizz\n",
      "43\n",
      "44\n",
      "FizzBuzz\n",
      "46\n",
      "47\n",
      "Fizz\n",
      "49\n",
      "Buzz\n",
      "Fizz\n",
      "52\n",
      "53\n",
      "Fizz\n",
      "Buzz\n",
      "56\n",
      "Fizz\n",
      "58\n",
      "59\n",
      "FizzBuzz\n",
      "61\n",
      "62\n",
      "Fizz\n",
      "64\n",
      "Buzz\n",
      "Fizz\n",
      "67\n",
      "68\n",
      "Fizz\n",
      "Buzz\n",
      "71\n",
      "Fizz\n",
      "73\n",
      "74\n",
      "FizzBuzz\n",
      "76\n",
      "77\n",
      "Fizz\n",
      "79\n",
      "Buzz\n",
      "Fizz\n",
      "82\n",
      "83\n",
      "Fizz\n",
      "Buzz\n",
      "86\n",
      "Fizz\n",
      "88\n",
      "89\n",
      "FizzBuzz\n",
      "91\n",
      "92\n",
      "Fizz\n",
      "94\n",
      "Buzz\n",
      "Fizz\n",
      "97\n",
      "98\n",
      "Fizz\n",
      "Buzz\n"
     ]
    }
   ],
   "source": [
    "# SOLUTION 2\n",
    "# this is similar to the original solution, but is defining the FizzBuzz function\n",
    "# this solution could be better if you plan to repurpose the same exercise for numbers other than 3 and 5\n",
    "\n",
    "def FizzBuzz(first,second):\n",
    "    for x in range(1,101):\n",
    "        if (x % first == 0) and (x % second == 0):\n",
    "            print('FizzBuzz')\n",
    "        elif x % first == 0:\n",
    "            print('Fizz')\n",
    "        elif x % second == 0:\n",
    "            print('Buzz')\n",
    "        else:\n",
    "            print(x)\n",
    "\n",
    "FizzBuzz(3,5)"
   ]
  },
  {
   "cell_type": "code",
   "execution_count": 314,
   "metadata": {},
   "outputs": [
    {
     "name": "stdout",
     "output_type": "stream",
     "text": [
      "1\n",
      "2\n",
      "Fizz\n",
      "4\n",
      "Buzz\n",
      "Fizz\n",
      "7\n",
      "8\n",
      "Fizz\n",
      "Buzz\n",
      "11\n",
      "Fizz\n",
      "13\n",
      "14\n",
      "FizzBuzz\n",
      "16\n",
      "17\n",
      "Fizz\n",
      "19\n",
      "Buzz\n",
      "Fizz\n",
      "22\n",
      "23\n",
      "Fizz\n",
      "Buzz\n",
      "26\n",
      "Fizz\n",
      "28\n",
      "29\n",
      "FizzBuzz\n",
      "31\n",
      "32\n",
      "Fizz\n",
      "34\n",
      "Buzz\n",
      "Fizz\n",
      "37\n",
      "38\n",
      "Fizz\n",
      "Buzz\n",
      "41\n",
      "Fizz\n",
      "43\n",
      "44\n",
      "FizzBuzz\n",
      "46\n",
      "47\n",
      "Fizz\n",
      "49\n",
      "Buzz\n",
      "Fizz\n",
      "52\n",
      "53\n",
      "Fizz\n",
      "Buzz\n",
      "56\n",
      "Fizz\n",
      "58\n",
      "59\n",
      "FizzBuzz\n",
      "61\n",
      "62\n",
      "Fizz\n",
      "64\n",
      "Buzz\n",
      "Fizz\n",
      "67\n",
      "68\n",
      "Fizz\n",
      "Buzz\n",
      "71\n",
      "Fizz\n",
      "73\n",
      "74\n",
      "FizzBuzz\n",
      "76\n",
      "77\n",
      "Fizz\n",
      "79\n",
      "Buzz\n",
      "Fizz\n",
      "82\n",
      "83\n",
      "Fizz\n",
      "Buzz\n",
      "86\n",
      "Fizz\n",
      "88\n",
      "89\n",
      "FizzBuzz\n",
      "91\n",
      "92\n",
      "Fizz\n",
      "94\n",
      "Buzz\n",
      "Fizz\n",
      "97\n",
      "98\n",
      "Fizz\n",
      "Buzz\n"
     ]
    }
   ],
   "source": [
    "#SOLUTION 3\n",
    "#this solution is an iteration that builds off a blank result\n",
    "#as it iterates, the string Fizz or Buzz may be added\n",
    "#if the blank result is still blank - no Fizz or Buzz added - then the number in that iteration is added\n",
    "#this would be beneficial if you wanted to continue to add more multiples requiring minimal addition lines of code\n",
    "#this solution also gives a bit more flexibility with the result being returned (not just print x)\n",
    "\n",
    "for x in range(1,101):\n",
    "    result = \"\"\n",
    "    if x % 3 == 0:\n",
    "        result += \"Fizz\"\n",
    "    if x % 5 == 0:\n",
    "        result += \"Buzz\"\n",
    "    if not result:\n",
    "        result += str(x)\n",
    "    print(result)"
   ]
  },
  {
   "cell_type": "code",
   "execution_count": null,
   "metadata": {
    "collapsed": true
   },
   "outputs": [],
   "source": []
  }
 ],
 "metadata": {
  "anaconda-cloud": {},
  "kernelspec": {
   "display_name": "Python 3",
   "language": "python",
   "name": "python3"
  },
  "language_info": {
   "codemirror_mode": {
    "name": "ipython",
    "version": 3
   },
   "file_extension": ".py",
   "mimetype": "text/x-python",
   "name": "python",
   "nbconvert_exporter": "python",
   "pygments_lexer": "ipython3",
   "version": "3.6.3"
  }
 },
 "nbformat": 4,
 "nbformat_minor": 2
}
